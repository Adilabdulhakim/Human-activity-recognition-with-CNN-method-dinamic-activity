{
  "nbformat": 4,
  "nbformat_minor": 0,
  "metadata": {
    "colab": {
      "name": "UntitledCNNDinamis.ipynb",
      "provenance": [],
      "collapsed_sections": []
    },
    "kernelspec": {
      "name": "python3",
      "display_name": "Python 3"
    },
    "language_info": {
      "name": "python"
    }
  },
  "cells": [
    {
      "cell_type": "code",
      "metadata": {
        "id": "B3nkHNEh6aG2",
        "colab": {
          "base_uri": "https://localhost:8080/"
        },
        "outputId": "bb7e822e-e8de-47ab-a1a9-630a0254dc42"
      },
      "source": [
        "from google.colab import drive\n",
        "drive.mount('/content/drive')"
      ],
      "execution_count": null,
      "outputs": [
        {
          "output_type": "stream",
          "name": "stdout",
          "text": [
            "Drive already mounted at /content/drive; to attempt to forcibly remount, call drive.mount(\"/content/drive\", force_remount=True).\n"
          ]
        }
      ]
    },
    {
      "cell_type": "code",
      "metadata": {
        "id": "B8bFJ2gINOnl"
      },
      "source": [
        "import pandas as pd\n",
        "import numpy as np"
      ],
      "execution_count": null,
      "outputs": []
    },
    {
      "cell_type": "code",
      "metadata": {
        "id": "uKmsKkjtOHRB"
      },
      "source": [
        "#Pelabelan\n",
        "ACTIVITIES = {\n",
        "    3: 'Walking_Upstairs',\n",
        "    4: 'Walking_Downstairs',\n",
        "    5: 'Walking',\n",
        "}"
      ],
      "execution_count": null,
      "outputs": []
    },
    {
      "cell_type": "code",
      "metadata": {
        "colab": {
          "base_uri": "https://localhost:8080/"
        },
        "id": "eUfFx6WuOHZe",
        "outputId": "7a18d78c-7a3c-4d94-a889-0714a38330ab"
      },
      "source": [
        " !pip install hyperas\n",
        "!pip install hyperopt"
      ],
      "execution_count": null,
      "outputs": [
        {
          "output_type": "stream",
          "name": "stdout",
          "text": [
            "Collecting hyperas\n",
            "  Downloading hyperas-0.4.1-py3-none-any.whl (9.1 kB)\n",
            "Requirement already satisfied: entrypoints in /usr/local/lib/python3.7/dist-packages (from hyperas) (0.3)\n",
            "Requirement already satisfied: nbformat in /usr/local/lib/python3.7/dist-packages (from hyperas) (5.1.3)\n",
            "Requirement already satisfied: keras in /usr/local/lib/python3.7/dist-packages (from hyperas) (2.7.0)\n",
            "Requirement already satisfied: jupyter in /usr/local/lib/python3.7/dist-packages (from hyperas) (1.0.0)\n",
            "Requirement already satisfied: nbconvert in /usr/local/lib/python3.7/dist-packages (from hyperas) (5.6.1)\n",
            "Requirement already satisfied: hyperopt in /usr/local/lib/python3.7/dist-packages (from hyperas) (0.1.2)\n",
            "Requirement already satisfied: scipy in /usr/local/lib/python3.7/dist-packages (from hyperopt->hyperas) (1.4.1)\n",
            "Requirement already satisfied: future in /usr/local/lib/python3.7/dist-packages (from hyperopt->hyperas) (0.16.0)\n",
            "Requirement already satisfied: pymongo in /usr/local/lib/python3.7/dist-packages (from hyperopt->hyperas) (4.0.1)\n",
            "Requirement already satisfied: numpy in /usr/local/lib/python3.7/dist-packages (from hyperopt->hyperas) (1.19.5)\n",
            "Requirement already satisfied: networkx in /usr/local/lib/python3.7/dist-packages (from hyperopt->hyperas) (2.6.3)\n",
            "Requirement already satisfied: six in /usr/local/lib/python3.7/dist-packages (from hyperopt->hyperas) (1.15.0)\n",
            "Requirement already satisfied: tqdm in /usr/local/lib/python3.7/dist-packages (from hyperopt->hyperas) (4.62.3)\n",
            "Requirement already satisfied: ipykernel in /usr/local/lib/python3.7/dist-packages (from jupyter->hyperas) (4.10.1)\n",
            "Requirement already satisfied: jupyter-console in /usr/local/lib/python3.7/dist-packages (from jupyter->hyperas) (5.2.0)\n",
            "Requirement already satisfied: notebook in /usr/local/lib/python3.7/dist-packages (from jupyter->hyperas) (5.3.1)\n",
            "Requirement already satisfied: qtconsole in /usr/local/lib/python3.7/dist-packages (from jupyter->hyperas) (5.2.2)\n",
            "Requirement already satisfied: ipywidgets in /usr/local/lib/python3.7/dist-packages (from jupyter->hyperas) (7.6.5)\n",
            "Requirement already satisfied: ipython>=4.0.0 in /usr/local/lib/python3.7/dist-packages (from ipykernel->jupyter->hyperas) (5.5.0)\n",
            "Requirement already satisfied: tornado>=4.0 in /usr/local/lib/python3.7/dist-packages (from ipykernel->jupyter->hyperas) (5.1.1)\n",
            "Requirement already satisfied: traitlets>=4.1.0 in /usr/local/lib/python3.7/dist-packages (from ipykernel->jupyter->hyperas) (5.1.1)\n",
            "Requirement already satisfied: jupyter-client in /usr/local/lib/python3.7/dist-packages (from ipykernel->jupyter->hyperas) (5.3.5)\n",
            "Requirement already satisfied: pygments in /usr/local/lib/python3.7/dist-packages (from ipython>=4.0.0->ipykernel->jupyter->hyperas) (2.6.1)\n",
            "Requirement already satisfied: pexpect in /usr/local/lib/python3.7/dist-packages (from ipython>=4.0.0->ipykernel->jupyter->hyperas) (4.8.0)\n",
            "Requirement already satisfied: prompt-toolkit<2.0.0,>=1.0.4 in /usr/local/lib/python3.7/dist-packages (from ipython>=4.0.0->ipykernel->jupyter->hyperas) (1.0.18)\n",
            "Requirement already satisfied: setuptools>=18.5 in /usr/local/lib/python3.7/dist-packages (from ipython>=4.0.0->ipykernel->jupyter->hyperas) (57.4.0)\n",
            "Requirement already satisfied: decorator in /usr/local/lib/python3.7/dist-packages (from ipython>=4.0.0->ipykernel->jupyter->hyperas) (4.4.2)\n",
            "Requirement already satisfied: simplegeneric>0.8 in /usr/local/lib/python3.7/dist-packages (from ipython>=4.0.0->ipykernel->jupyter->hyperas) (0.8.1)\n",
            "Requirement already satisfied: pickleshare in /usr/local/lib/python3.7/dist-packages (from ipython>=4.0.0->ipykernel->jupyter->hyperas) (0.7.5)\n",
            "Requirement already satisfied: wcwidth in /usr/local/lib/python3.7/dist-packages (from prompt-toolkit<2.0.0,>=1.0.4->ipython>=4.0.0->ipykernel->jupyter->hyperas) (0.2.5)\n",
            "Requirement already satisfied: ipython-genutils~=0.2.0 in /usr/local/lib/python3.7/dist-packages (from ipywidgets->jupyter->hyperas) (0.2.0)\n",
            "Requirement already satisfied: widgetsnbextension~=3.5.0 in /usr/local/lib/python3.7/dist-packages (from ipywidgets->jupyter->hyperas) (3.5.2)\n",
            "Requirement already satisfied: jupyterlab-widgets>=1.0.0 in /usr/local/lib/python3.7/dist-packages (from ipywidgets->jupyter->hyperas) (1.0.2)\n",
            "Requirement already satisfied: jupyter-core in /usr/local/lib/python3.7/dist-packages (from nbformat->hyperas) (4.9.1)\n",
            "Requirement already satisfied: jsonschema!=2.5.0,>=2.4 in /usr/local/lib/python3.7/dist-packages (from nbformat->hyperas) (4.3.3)\n",
            "Requirement already satisfied: importlib-resources>=1.4.0 in /usr/local/lib/python3.7/dist-packages (from jsonschema!=2.5.0,>=2.4->nbformat->hyperas) (5.4.0)\n",
            "Requirement already satisfied: importlib-metadata in /usr/local/lib/python3.7/dist-packages (from jsonschema!=2.5.0,>=2.4->nbformat->hyperas) (4.10.0)\n",
            "Requirement already satisfied: attrs>=17.4.0 in /usr/local/lib/python3.7/dist-packages (from jsonschema!=2.5.0,>=2.4->nbformat->hyperas) (21.4.0)\n",
            "Requirement already satisfied: pyrsistent!=0.17.0,!=0.17.1,!=0.17.2,>=0.14.0 in /usr/local/lib/python3.7/dist-packages (from jsonschema!=2.5.0,>=2.4->nbformat->hyperas) (0.18.0)\n",
            "Requirement already satisfied: typing-extensions in /usr/local/lib/python3.7/dist-packages (from jsonschema!=2.5.0,>=2.4->nbformat->hyperas) (3.10.0.2)\n",
            "Requirement already satisfied: zipp>=3.1.0 in /usr/local/lib/python3.7/dist-packages (from importlib-resources>=1.4.0->jsonschema!=2.5.0,>=2.4->nbformat->hyperas) (3.7.0)\n",
            "Requirement already satisfied: Send2Trash in /usr/local/lib/python3.7/dist-packages (from notebook->jupyter->hyperas) (1.8.0)\n",
            "Requirement already satisfied: jinja2 in /usr/local/lib/python3.7/dist-packages (from notebook->jupyter->hyperas) (2.11.3)\n",
            "Requirement already satisfied: terminado>=0.8.1 in /usr/local/lib/python3.7/dist-packages (from notebook->jupyter->hyperas) (0.12.1)\n",
            "Requirement already satisfied: pyzmq>=13 in /usr/local/lib/python3.7/dist-packages (from jupyter-client->ipykernel->jupyter->hyperas) (22.3.0)\n",
            "Requirement already satisfied: python-dateutil>=2.1 in /usr/local/lib/python3.7/dist-packages (from jupyter-client->ipykernel->jupyter->hyperas) (2.8.2)\n",
            "Requirement already satisfied: ptyprocess in /usr/local/lib/python3.7/dist-packages (from terminado>=0.8.1->notebook->jupyter->hyperas) (0.7.0)\n",
            "Requirement already satisfied: MarkupSafe>=0.23 in /usr/local/lib/python3.7/dist-packages (from jinja2->notebook->jupyter->hyperas) (2.0.1)\n",
            "Requirement already satisfied: pandocfilters>=1.4.1 in /usr/local/lib/python3.7/dist-packages (from nbconvert->hyperas) (1.5.0)\n",
            "Requirement already satisfied: testpath in /usr/local/lib/python3.7/dist-packages (from nbconvert->hyperas) (0.5.0)\n",
            "Requirement already satisfied: bleach in /usr/local/lib/python3.7/dist-packages (from nbconvert->hyperas) (4.1.0)\n",
            "Requirement already satisfied: defusedxml in /usr/local/lib/python3.7/dist-packages (from nbconvert->hyperas) (0.7.1)\n",
            "Requirement already satisfied: mistune<2,>=0.8.1 in /usr/local/lib/python3.7/dist-packages (from nbconvert->hyperas) (0.8.4)\n",
            "Requirement already satisfied: webencodings in /usr/local/lib/python3.7/dist-packages (from bleach->nbconvert->hyperas) (0.5.1)\n",
            "Requirement already satisfied: packaging in /usr/local/lib/python3.7/dist-packages (from bleach->nbconvert->hyperas) (21.3)\n",
            "Requirement already satisfied: pyparsing!=3.0.5,>=2.0.2 in /usr/local/lib/python3.7/dist-packages (from packaging->bleach->nbconvert->hyperas) (3.0.6)\n",
            "Requirement already satisfied: qtpy in /usr/local/lib/python3.7/dist-packages (from qtconsole->jupyter->hyperas) (2.0.0)\n",
            "Installing collected packages: hyperas\n",
            "Successfully installed hyperas-0.4.1\n",
            "Requirement already satisfied: hyperopt in /usr/local/lib/python3.7/dist-packages (0.1.2)\n",
            "Requirement already satisfied: six in /usr/local/lib/python3.7/dist-packages (from hyperopt) (1.15.0)\n",
            "Requirement already satisfied: networkx in /usr/local/lib/python3.7/dist-packages (from hyperopt) (2.6.3)\n",
            "Requirement already satisfied: tqdm in /usr/local/lib/python3.7/dist-packages (from hyperopt) (4.62.3)\n",
            "Requirement already satisfied: pymongo in /usr/local/lib/python3.7/dist-packages (from hyperopt) (4.0.1)\n",
            "Requirement already satisfied: numpy in /usr/local/lib/python3.7/dist-packages (from hyperopt) (1.19.5)\n",
            "Requirement already satisfied: future in /usr/local/lib/python3.7/dist-packages (from hyperopt) (0.16.0)\n",
            "Requirement already satisfied: scipy in /usr/local/lib/python3.7/dist-packages (from hyperopt) (1.4.1)\n"
          ]
        }
      ]
    },
    {
      "cell_type": "code",
      "metadata": {
        "id": "hkk481ACwj-R"
      },
      "source": [
        "from hyperopt import Trials, STATUS_OK, tpe\n",
        "\n",
        "from hyperas import optim\n",
        "from hyperas.distributions import choice, uniform\n",
        "from hyperas.utils import eval_hyperopt_space\n",
        "\n",
        "import matplotlib.pyplot as plt\n",
        "import pandas as pd\n",
        "from matplotlib import pyplot\n",
        "from sklearn.preprocessing import StandardScaler\n",
        "import keras\n",
        "from keras.models import Sequential\n",
        "from keras.layers import Dense\n",
        "from keras.layers import Flatten\n",
        "from keras.layers import Dropout\n",
        "from keras.layers.convolutional import Conv1D\n",
        "from keras.layers.convolutional import MaxPooling1D\n",
        "from keras.models import Sequential\n",
        "from keras.layers import LSTM\n",
        "from keras.layers.core import Dense, Dropout\n",
        "\n",
        "import itertools\n",
        "\n",
        "import numpy as np\n",
        "import tensorflow as tf\n",
        "import random as rn\n",
        "\n",
        "from sklearn import metrics\n",
        "from sklearn.metrics import f1_score\n",
        "from sklearn.metrics import classification_report, confusion_matrix\n",
        "\n",
        "import pickle"
      ],
      "execution_count": null,
      "outputs": []
    },
    {
      "cell_type": "code",
      "metadata": {
        "id": "lYHdvCbPwkAR",
        "colab": {
          "base_uri": "https://localhost:8080/"
        },
        "outputId": "99c046b8-3f9a-41cc-bd14-6f5b6ea2591f"
      },
      "source": [
        "from google.colab import drive\n",
        "drive.mount('/content/drive')"
      ],
      "execution_count": null,
      "outputs": [
        {
          "output_type": "stream",
          "name": "stdout",
          "text": [
            "Drive already mounted at /content/drive; to attempt to forcibly remount, call drive.mount(\"/content/drive\", force_remount=True).\n"
          ]
        }
      ]
    },
    {
      "cell_type": "code",
      "metadata": {
        "id": "prAjSpcDwkCt"
      },
      "source": [
        "# Direktori dataset\n",
        "DATADIR = '/content/drive/My Drive/Colab Notebooks/UCI HAR Dataset/'"
      ],
      "execution_count": null,
      "outputs": []
    },
    {
      "cell_type": "code",
      "metadata": {
        "id": "GW1goHAXxK1x"
      },
      "source": [
        ""
      ],
      "execution_count": null,
      "outputs": []
    },
    {
      "cell_type": "code",
      "metadata": {
        "id": "MnSfJKUmxLSn"
      },
      "source": [
        "def data_scaled():\n",
        "    SIGNALS = [\n",
        "        \"body_acc_x\",\n",
        "        \"body_acc_y\",\n",
        "        \"body_acc_z\",\n",
        "        \"body_gyro_x\",\n",
        "        \"body_gyro_y\",\n",
        "        \"body_gyro_z\",\n",
        "        \"total_acc_x\",\n",
        "        \"total_acc_y\",\n",
        "        \"total_acc_z\"\n",
        "        ]\n",
        "    from sklearn.base import BaseEstimator, TransformerMixin\n",
        "    class scaling_tseries_data(BaseEstimator, TransformerMixin):\n",
        "        from sklearn.preprocessing import StandardScaler\n",
        "        def __init__(self):\n",
        "            self.scale = None\n",
        "\n",
        "        def transform(self, X):\n",
        "            temp_X1 = X.reshape((X.shape[0] * X.shape[1], X.shape[2]))\n",
        "            temp_X1 = self.scale.transform(temp_X1)\n",
        "            return temp_X1.reshape(X.shape)\n",
        "\n",
        "        def fit(self, X):\n",
        "            # remove overlaping\n",
        "            remove = int(X.shape[1] / 2)\n",
        "            temp_X = X[:, -remove:, :]\n",
        "            # flatten data\n",
        "            temp_X = temp_X.reshape((temp_X.shape[0] * temp_X.shape[1], temp_X.shape[2]))\n",
        "            scale = StandardScaler()\n",
        "            scale.fit(temp_X)\n",
        "            #for furter use at prediction pipeline\n",
        "            pickle.dump(scale,open('Scale_dinamis.p','wb'))\n",
        "            self.scale = scale\n",
        "            return self\n",
        "        \n",
        "    def _read_csv(filename):\n",
        "        return pd.read_csv(filename, delim_whitespace=True, header=None)\n",
        "\n",
        "    def load_signals(subset):\n",
        "        signals_data = []\n",
        "\n",
        "        for signal in SIGNALS:\n",
        "            filename = f'/content/drive/My Drive/Colab Notebooks/UCI HAR Dataset/{subset}/Inertial Signals/{signal}_{subset}.txt'\n",
        "            signals_data.append( _read_csv(filename).values)\n",
        "\n",
        "        return np.transpose(signals_data, (1, 2, 0))\n",
        "    \n",
        "    def load_y(subset):\n",
        "        filename = f'/content/drive/My Drive/Colab Notebooks/UCI HAR Dataset/{subset}/y_{subset}.txt'\n",
        "        y = _read_csv(filename)[0]\n",
        "        y_subset = y<=3\n",
        "        y = y[y_subset]\n",
        "        return pd.get_dummies(y).values,y_subset\n",
        "    \n",
        "    Y_train,y_train_sub = load_y('train')\n",
        "    Y_test,y_test_sub = load_y('test')\n",
        "    X_train, X_test = load_signals('train'), load_signals('test')\n",
        "    X_train = X_train[y_train_sub]\n",
        "    X_test = X_test[y_test_sub]\n",
        "    \n",
        "    #Scaling\n",
        "    Scale = scaling_tseries_data()\n",
        "    Scale.fit(X_train)\n",
        "    X_train = Scale.transform(X_train)\n",
        "    X_test = Scale.transform(X_test)\n",
        "\n",
        "    return X_train, Y_train, X_test,  Y_test"
      ],
      "execution_count": null,
      "outputs": []
    },
    {
      "cell_type": "code",
      "metadata": {
        "id": "EzS_rA0JxWEw"
      },
      "source": [
        "import pandas as pd"
      ],
      "execution_count": null,
      "outputs": []
    },
    {
      "cell_type": "code",
      "metadata": {
        "id": "F6tntWChxWQ-"
      },
      "source": [
        "X_train, Y_train, X_test, Y_test = data_scaled()"
      ],
      "execution_count": null,
      "outputs": []
    },
    {
      "cell_type": "code",
      "metadata": {
        "id": "zSMmr4sPxczl"
      },
      "source": [
        "# Importing tensorflow\n",
        "np.random.seed(42)\n",
        "import tensorflow as tf\n",
        "tf.random.set_seed(42)"
      ],
      "execution_count": null,
      "outputs": []
    },
    {
      "cell_type": "code",
      "metadata": {
        "id": "-lTH3-KTxc-p"
      },
      "source": [
        "# Configuring a session\n",
        "session_conf = tf.compat.v1.ConfigProto(\n",
        "    intra_op_parallelism_threads=1,\n",
        "    inter_op_parallelism_threads=1\n",
        ")"
      ],
      "execution_count": null,
      "outputs": []
    },
    {
      "cell_type": "code",
      "metadata": {
        "id": "0atVnEHvxl8g"
      },
      "source": [
        "# Import Keras\n",
        "from tensorflow.compat.v1.keras import backend as K\n",
        "sess = tf.compat.v1.Session(graph=tf.compat.v1.get_default_graph(), config=session_conf)\n",
        "K.set_session(sess)"
      ],
      "execution_count": null,
      "outputs": []
    },
    {
      "cell_type": "code",
      "metadata": {
        "colab": {
          "base_uri": "https://localhost:8080/"
        },
        "id": "ICrxEK4TZ553",
        "outputId": "e9015849-6b37-4f37-ee24-cded885ccde9"
      },
      "source": [
        "Y_test.shape"
      ],
      "execution_count": null,
      "outputs": [
        {
          "output_type": "execute_result",
          "data": {
            "text/plain": [
              "(1387, 3)"
            ]
          },
          "metadata": {},
          "execution_count": 14
        }
      ]
    },
    {
      "cell_type": "code",
      "metadata": {
        "colab": {
          "base_uri": "https://localhost:8080/"
        },
        "id": "Rp3MZ798xqFH",
        "outputId": "5a37671f-6aba-4989-98f0-7c43b116364f"
      },
      "source": [
        "print('X Shape of train data',X_train.shape, 'Y shape', Y_train.shape)\n",
        "print('X Shape of val data',X_test.shape,'Y shape',Y_test.shape)"
      ],
      "execution_count": null,
      "outputs": [
        {
          "output_type": "stream",
          "name": "stdout",
          "text": [
            "X Shape of train data (3285, 128, 9) Y shape (3285, 3)\n",
            "X Shape of val data (1387, 128, 9) Y shape (1387, 3)\n"
          ]
        }
      ]
    },
    {
      "cell_type": "code",
      "metadata": {
        "id": "3I-L3GQWaS0o"
      },
      "source": [
        "from keras.layers import Dropout, TimeDistributed, Dense, Activation, Embedding,Flatten\n",
        "from keras.layers import BatchNormalization\n",
        "from keras.layers import Conv1D, MaxPooling1D\n",
        "from tensorflow.keras.optimizers import Adam, RMSprop\n",
        "#from keras.regularizers import l2,l1"
      ],
      "execution_count": null,
      "outputs": []
    },
    {
      "cell_type": "code",
      "metadata": {
        "id": "xVQp8Yw41Gwr"
      },
      "source": [
        ""
      ],
      "execution_count": null,
      "outputs": []
    },
    {
      "cell_type": "code",
      "metadata": {
        "colab": {
          "base_uri": "https://localhost:8080/"
        },
        "id": "PDAU3m2J1G0P",
        "outputId": "719e1094-49e4-4a75-f039-9d6d4c5844da"
      },
      "source": [
        "import time\n",
        "start = time.time()\n",
        "\n",
        "model = Sequential()\n",
        "model.add(Conv1D(128, 5, \n",
        "                 activation='relu', \n",
        "                 kernel_initializer='he_uniform', \n",
        "                #kernel_regularizer=tf.keras.regularizers.L2(0.3), \n",
        "                 input_shape=(128,9)))\n",
        "model.add(Dropout(0.2531187693487485))\n",
        "model.add(Conv1D(128, 3,\n",
        "                 activation='relu', \n",
        "                 kernel_initializer='he_uniform'))\n",
        "                 #kernel_regularizer=tf.keras.regularizers.L2(0.2)))\n",
        "model.add(Dropout(0.3911912146442763))\n",
        "model.add(MaxPooling1D(3))\n",
        "model.add(Flatten())\n",
        "model.add(Dense(512, activation='relu'))\n",
        "model.add(Dense(3, activation='softmax'))\n",
        "\n",
        "print(model.summary())\n",
        "\n",
        "model.compile(loss='categorical_crossentropy',\n",
        "              metrics=['accuracy'],\n",
        "              optimizer=Adam(learning_rate=0.0001))\n",
        "    \n",
        "result = model.fit(X_train, Y_train,\n",
        "                   batch_size=32,\n",
        "                   epochs= 45,\n",
        "                   verbose=1,\n",
        "                   validation_data=(X_test, Y_test))\n",
        "\n",
        "\n",
        "end = time.time()\n",
        "print(\"WAKTU TRAINING:\", end - start, \"seconds\")"
      ],
      "execution_count": null,
      "outputs": [
        {
          "output_type": "stream",
          "name": "stdout",
          "text": [
            "Model: \"sequential\"\n",
            "_________________________________________________________________\n",
            " Layer (type)                Output Shape              Param #   \n",
            "=================================================================\n",
            " conv1d (Conv1D)             (None, 124, 128)          5888      \n",
            "                                                                 \n",
            " dropout (Dropout)           (None, 124, 128)          0         \n",
            "                                                                 \n",
            " conv1d_1 (Conv1D)           (None, 122, 128)          49280     \n",
            "                                                                 \n",
            " dropout_1 (Dropout)         (None, 122, 128)          0         \n",
            "                                                                 \n",
            " max_pooling1d (MaxPooling1D  (None, 40, 128)          0         \n",
            " )                                                               \n",
            "                                                                 \n",
            " flatten (Flatten)           (None, 5120)              0         \n",
            "                                                                 \n",
            " dense (Dense)               (None, 512)               2621952   \n",
            "                                                                 \n",
            " dense_1 (Dense)             (None, 3)                 1539      \n",
            "                                                                 \n",
            "=================================================================\n",
            "Total params: 2,678,659\n",
            "Trainable params: 2,678,659\n",
            "Non-trainable params: 0\n",
            "_________________________________________________________________\n",
            "None\n",
            "Epoch 1/45\n",
            "103/103 [==============================] - 11s 101ms/step - loss: 0.9869 - accuracy: 0.6603 - val_loss: 0.5677 - val_accuracy: 0.7844\n",
            "Epoch 2/45\n",
            "103/103 [==============================] - 10s 97ms/step - loss: 0.2448 - accuracy: 0.9160 - val_loss: 0.3347 - val_accuracy: 0.8919\n",
            "Epoch 3/45\n",
            "103/103 [==============================] - 11s 104ms/step - loss: 0.1063 - accuracy: 0.9693 - val_loss: 0.2946 - val_accuracy: 0.9070\n",
            "Epoch 4/45\n",
            "103/103 [==============================] - 10s 100ms/step - loss: 0.0754 - accuracy: 0.9775 - val_loss: 0.2368 - val_accuracy: 0.9178\n",
            "Epoch 5/45\n",
            "103/103 [==============================] - 11s 104ms/step - loss: 0.0404 - accuracy: 0.9863 - val_loss: 0.2318 - val_accuracy: 0.9344\n",
            "Epoch 6/45\n",
            "103/103 [==============================] - 10s 98ms/step - loss: 0.0405 - accuracy: 0.9860 - val_loss: 0.2940 - val_accuracy: 0.9019\n",
            "Epoch 7/45\n",
            "103/103 [==============================] - 10s 99ms/step - loss: 0.0244 - accuracy: 0.9927 - val_loss: 0.2008 - val_accuracy: 0.9466\n",
            "Epoch 8/45\n",
            "103/103 [==============================] - 10s 99ms/step - loss: 0.0155 - accuracy: 0.9951 - val_loss: 0.2053 - val_accuracy: 0.9250\n",
            "Epoch 9/45\n",
            "103/103 [==============================] - 10s 99ms/step - loss: 0.0087 - accuracy: 0.9979 - val_loss: 0.2382 - val_accuracy: 0.9315\n",
            "Epoch 10/45\n",
            "103/103 [==============================] - 10s 100ms/step - loss: 0.0154 - accuracy: 0.9963 - val_loss: 0.2179 - val_accuracy: 0.9488\n",
            "Epoch 11/45\n",
            "103/103 [==============================] - 10s 101ms/step - loss: 0.0167 - accuracy: 0.9942 - val_loss: 0.2635 - val_accuracy: 0.9308\n",
            "Epoch 12/45\n",
            "103/103 [==============================] - 10s 100ms/step - loss: 0.0114 - accuracy: 0.9970 - val_loss: 0.2059 - val_accuracy: 0.9575\n",
            "Epoch 13/45\n",
            "103/103 [==============================] - 10s 100ms/step - loss: 0.0069 - accuracy: 0.9979 - val_loss: 0.2428 - val_accuracy: 0.9308\n",
            "Epoch 14/45\n",
            "103/103 [==============================] - 10s 99ms/step - loss: 0.0073 - accuracy: 0.9979 - val_loss: 0.2345 - val_accuracy: 0.9430\n",
            "Epoch 15/45\n",
            "103/103 [==============================] - 10s 97ms/step - loss: 0.0031 - accuracy: 0.9997 - val_loss: 0.2216 - val_accuracy: 0.9452\n",
            "Epoch 16/45\n",
            "103/103 [==============================] - 11s 105ms/step - loss: 0.0014 - accuracy: 1.0000 - val_loss: 0.1928 - val_accuracy: 0.9539\n",
            "Epoch 17/45\n",
            "103/103 [==============================] - 10s 100ms/step - loss: 0.0015 - accuracy: 0.9997 - val_loss: 0.2297 - val_accuracy: 0.9503\n",
            "Epoch 18/45\n",
            "103/103 [==============================] - 10s 99ms/step - loss: 0.0017 - accuracy: 1.0000 - val_loss: 0.2188 - val_accuracy: 0.9452\n",
            "Epoch 19/45\n",
            "103/103 [==============================] - 10s 100ms/step - loss: 0.0025 - accuracy: 0.9994 - val_loss: 0.2478 - val_accuracy: 0.9409\n",
            "Epoch 20/45\n",
            "103/103 [==============================] - 10s 101ms/step - loss: 0.0130 - accuracy: 0.9948 - val_loss: 0.3200 - val_accuracy: 0.9243\n",
            "Epoch 21/45\n",
            "103/103 [==============================] - 10s 101ms/step - loss: 0.0083 - accuracy: 0.9976 - val_loss: 0.2463 - val_accuracy: 0.9373\n",
            "Epoch 22/45\n",
            "103/103 [==============================] - 10s 101ms/step - loss: 0.0021 - accuracy: 0.9994 - val_loss: 0.2360 - val_accuracy: 0.9546\n",
            "Epoch 23/45\n",
            "103/103 [==============================] - 11s 107ms/step - loss: 0.0108 - accuracy: 0.9957 - val_loss: 0.3211 - val_accuracy: 0.9265\n",
            "Epoch 24/45\n",
            "103/103 [==============================] - 10s 100ms/step - loss: 0.0148 - accuracy: 0.9945 - val_loss: 0.2596 - val_accuracy: 0.9488\n",
            "Epoch 25/45\n",
            "103/103 [==============================] - 11s 106ms/step - loss: 0.0132 - accuracy: 0.9954 - val_loss: 0.4087 - val_accuracy: 0.8976\n",
            "Epoch 26/45\n",
            "103/103 [==============================] - 10s 100ms/step - loss: 0.0164 - accuracy: 0.9945 - val_loss: 0.2821 - val_accuracy: 0.9293\n",
            "Epoch 27/45\n",
            "103/103 [==============================] - 10s 100ms/step - loss: 0.0022 - accuracy: 0.9994 - val_loss: 0.2537 - val_accuracy: 0.9214\n",
            "Epoch 28/45\n",
            "103/103 [==============================] - 10s 100ms/step - loss: 0.0018 - accuracy: 0.9991 - val_loss: 0.3137 - val_accuracy: 0.9366\n",
            "Epoch 29/45\n",
            "103/103 [==============================] - 10s 100ms/step - loss: 0.0019 - accuracy: 0.9997 - val_loss: 0.3434 - val_accuracy: 0.9445\n",
            "Epoch 30/45\n",
            "103/103 [==============================] - 10s 99ms/step - loss: 6.5641e-04 - accuracy: 0.9997 - val_loss: 0.2735 - val_accuracy: 0.9503\n",
            "Epoch 31/45\n",
            "103/103 [==============================] - 10s 101ms/step - loss: 5.5121e-04 - accuracy: 0.9997 - val_loss: 0.2653 - val_accuracy: 0.9546\n",
            "Epoch 32/45\n",
            "103/103 [==============================] - 10s 100ms/step - loss: 3.9256e-04 - accuracy: 1.0000 - val_loss: 0.2753 - val_accuracy: 0.9474\n",
            "Epoch 33/45\n",
            "103/103 [==============================] - 10s 100ms/step - loss: 0.0019 - accuracy: 0.9994 - val_loss: 0.2326 - val_accuracy: 0.9553\n",
            "Epoch 34/45\n",
            "103/103 [==============================] - 10s 100ms/step - loss: 1.7684e-04 - accuracy: 1.0000 - val_loss: 0.2276 - val_accuracy: 0.9640\n",
            "Epoch 35/45\n",
            "103/103 [==============================] - 10s 102ms/step - loss: 1.5959e-04 - accuracy: 1.0000 - val_loss: 0.2421 - val_accuracy: 0.9567\n",
            "Epoch 36/45\n",
            "103/103 [==============================] - 10s 102ms/step - loss: 2.2497e-04 - accuracy: 1.0000 - val_loss: 0.2615 - val_accuracy: 0.9539\n",
            "Epoch 37/45\n",
            "103/103 [==============================] - 10s 101ms/step - loss: 8.4441e-05 - accuracy: 1.0000 - val_loss: 0.2428 - val_accuracy: 0.9611\n",
            "Epoch 38/45\n",
            "103/103 [==============================] - 10s 101ms/step - loss: 1.3154e-04 - accuracy: 1.0000 - val_loss: 0.2605 - val_accuracy: 0.9510\n",
            "Epoch 39/45\n",
            "103/103 [==============================] - 11s 102ms/step - loss: 1.4993e-04 - accuracy: 1.0000 - val_loss: 0.2634 - val_accuracy: 0.9582\n",
            "Epoch 40/45\n",
            "103/103 [==============================] - 11s 102ms/step - loss: 2.0829e-04 - accuracy: 1.0000 - val_loss: 0.2415 - val_accuracy: 0.9553\n",
            "Epoch 41/45\n",
            "103/103 [==============================] - 10s 100ms/step - loss: 8.1234e-05 - accuracy: 1.0000 - val_loss: 0.2417 - val_accuracy: 0.9560\n",
            "Epoch 42/45\n",
            "103/103 [==============================] - 10s 101ms/step - loss: 5.6314e-05 - accuracy: 1.0000 - val_loss: 0.2398 - val_accuracy: 0.9625\n",
            "Epoch 43/45\n",
            "103/103 [==============================] - 10s 100ms/step - loss: 6.8758e-05 - accuracy: 1.0000 - val_loss: 0.2595 - val_accuracy: 0.9510\n",
            "Epoch 44/45\n",
            "103/103 [==============================] - 10s 102ms/step - loss: 4.8146e-05 - accuracy: 1.0000 - val_loss: 0.2471 - val_accuracy: 0.9632\n",
            "Epoch 45/45\n",
            "103/103 [==============================] - 11s 108ms/step - loss: 4.1586e-05 - accuracy: 1.0000 - val_loss: 0.2545 - val_accuracy: 0.9539\n",
            "WAKTU TRAINING: 469.0812795162201 seconds\n"
          ]
        }
      ]
    },
    {
      "cell_type": "code",
      "metadata": {
        "colab": {
          "base_uri": "https://localhost:8080/"
        },
        "id": "UIU2BYoV1G2X",
        "outputId": "18d5be56-8a11-4316-ab53-5e64c2f86f10"
      },
      "source": [
        "_,acc_val = result.model.evaluate(X_test,Y_test,verbose=0)\n",
        "_,acc_train = result.model.evaluate(X_train,Y_train,verbose=0)\n",
        "print('Train_accuracy',acc_train,'test_accuracy',acc_val)"
      ],
      "execution_count": null,
      "outputs": [
        {
          "output_type": "stream",
          "name": "stdout",
          "text": [
            "Train_accuracy 1.0 test_accuracy 0.9538572430610657\n"
          ]
        }
      ]
    },
    {
      "cell_type": "code",
      "metadata": {
        "colab": {
          "base_uri": "https://localhost:8080/",
          "height": 544
        },
        "id": "AJpVxjaS1G46",
        "outputId": "430fbfff-d5d9-46cf-f2c5-bcfbd86ef3d8"
      },
      "source": [
        "accuracy = result.history['accuracy']\n",
        "val_accuracy = result.history['val_accuracy']\n",
        "loss = result.history['loss']\n",
        "val_loss = result.history['val_loss']\n",
        "\n",
        "epochs = range(len(accuracy))\n",
        "plt.plot(epochs, accuracy, 'bo', label='Training accuracy')\n",
        "plt.plot(epochs, val_accuracy, 'b', label='Validation accuracy',color='Red')\n",
        "plt.title('Accuracy')\n",
        "plt.legend()\n",
        "plt.figure()\n",
        "plt.plot(epochs, loss, 'bo', label='Training loss')\n",
        "plt.plot(epochs, val_loss, 'b', label='Validation loss',color='Red')\n",
        "plt.title('Loss')\n",
        "plt.legend()\n",
        "plt.show()"
      ],
      "execution_count": null,
      "outputs": [
        {
          "output_type": "display_data",
          "data": {
            "image/png": "[encoded data removed]",
            "text/plain": [
              "<Figure size 432x288 with 1 Axes>"
            ]
          },
          "metadata": {
            "needs_background": "light"
          }
        },
        {
          "output_type": "display_data",
          "data": {
            "image/png": "[encoded data removed]",
            "text/plain": [
              "<Figure size 432x288 with 1 Axes>"
            ]
          },
          "metadata": {
            "needs_background": "light"
          }
        }
      ]
    },
    {
      "cell_type": "code",
      "metadata": {
        "colab": {
          "base_uri": "https://localhost:8080/"
        },
        "id": "-Dxer0VB3psU",
        "outputId": "ef613a30-67c8-42ec-aa66-b804f0afceca"
      },
      "source": [
        "y_predict=result.model.predict(X_test)\n",
        "\n",
        "#setting agar bisa dibaca conf matrix\n",
        "rounded_predicts=np.argmax(y_predict, axis=1)\n",
        "rounded_labels=np.argmax(Y_test, axis=1)\n",
        "print(y_predict.shape,Y_test.shape,Y_train.shape)"
      ],
      "execution_count": null,
      "outputs": [
        {
          "output_type": "stream",
          "name": "stdout",
          "text": [
            "(1387, 3) (1387, 3) (3285, 3)\n"
          ]
        }
      ]
    },
    {
      "cell_type": "code",
      "metadata": {
        "colab": {
          "base_uri": "https://localhost:8080/"
        },
        "id": "NM4VQaQB3p5T",
        "outputId": "3185786f-3190-4099-b74f-409e00df229b"
      },
      "source": [
        "# Confusion Matrix\n",
        "print(confusion_matrix(rounded_labels, rounded_predicts))"
      ],
      "execution_count": null,
      "outputs": [
        {
          "output_type": "stream",
          "name": "stdout",
          "text": [
            "[[458  20  18]\n",
            " [  4 446  21]\n",
            " [  0   1 419]]\n"
          ]
        }
      ]
    },
    {
      "cell_type": "code",
      "metadata": {
        "id": "lZk77ILO3u6-"
      },
      "source": [
        "import itertools\n",
        "import numpy as np\n",
        "import matplotlib.pyplot as plt\n",
        "from sklearn.metrics import confusion_matrix\n",
        "labels=['WALKING', 'WALKING_UPSTAIRS', 'WALKING_DOWNSTAIRS']\n",
        "def plot_confusion_matrix(cm, classes,\n",
        "                          normalize=False,\n",
        "                          title='Confusion matrix',\n",
        "                          cmap=plt.cm.Blues):\n",
        "    if normalize:\n",
        "        cm = cm.astype('float') / cm.sum(axis=1)[:, np.newaxis]\n",
        "    \n",
        "    plt.imshow(cm, interpolation='nearest', cmap=cmap)\n",
        "    plt.title(title)\n",
        "    plt.colorbar()\n",
        "    tick_marks = np.arange(len(classes))\n",
        "    plt.xticks(tick_marks, classes, rotation=45)\n",
        "    plt.yticks(tick_marks, classes)\n",
        "    fmt = '.2%' if normalize else 'd'\n",
        "    thresh = cm.max() / 2.\n",
        "    for i, j in itertools.product(range(cm.shape[0]), range(cm.shape[1])):\n",
        "        plt.text(j, i, format(cm[i, j], fmt),\n",
        "                 horizontalalignment=\"center\",\n",
        "                 color=\"white\" if cm[i, j] > thresh else \"black\")\n",
        "    plt.tight_layout()\n",
        "    plt.ylabel('True label')\n",
        "    plt.xlabel('Predicted label')"
      ],
      "execution_count": null,
      "outputs": []
    },
    {
      "cell_type": "code",
      "metadata": {
        "colab": {
          "base_uri": "https://localhost:8080/",
          "height": 574
        },
        "id": "Dk1Ggqq_3u8i",
        "outputId": "2dc772d5-3e65-44d7-cbc4-75efc45ac279"
      },
      "source": [
        "import matplotlib.pyplot as plt\n",
        "plt.figure(figsize=(9,8))\n",
        "cm = confusion_matrix(rounded_labels, rounded_predicts)\n",
        "plot_confusion_matrix(cm, classes=labels, normalize=True, title='Normalized Confussion Matrix \\n', cmap = plt.cm.Blues)\n",
        "plt.show()"
      ],
      "execution_count": null,
      "outputs": [
        {
          "output_type": "display_data",
          "data": {
            "image/png": "[encoded data removed]",
            "text/plain": [
              "<Figure size 648x576 with 2 Axes>"
            ]
          },
          "metadata": {
            "needs_background": "light"
          }
        }
      ]
    },
    {
      "cell_type": "code",
      "metadata": {
        "id": "p8TD5xRB3vAI",
        "colab": {
          "base_uri": "https://localhost:8080/"
        },
        "outputId": "6ec06189-fd09-4b8f-d223-6c01454bf5ae"
      },
      "source": [
        "#CLASS. REPORT\n",
        "from sklearn.metrics import classification_report\n",
        "y_pred = result.model.predict(X_test)\n",
        "  \n",
        "import numpy as np  \n",
        "ytest  = np.array(Y_test)\n",
        "print('np.argmax(ytest, axis=1): {0}'.format(np.argmax(ytest, axis=1)))\n",
        "y_pred = np.argmax(y_pred,axis=1)"
      ],
      "execution_count": null,
      "outputs": [
        {
          "output_type": "stream",
          "name": "stdout",
          "text": [
            "np.argmax(ytest, axis=1): [0 0 0 ... 1 1 1]\n"
          ]
        }
      ]
    },
    {
      "cell_type": "code",
      "metadata": {
        "colab": {
          "base_uri": "https://localhost:8080/"
        },
        "id": "9gxJHHH0_9Mk",
        "outputId": "a3dc3657-1cba-4358-dbbc-2073f804e773"
      },
      "source": [
        "print(classification_report(y_pred, np.argmax(ytest, axis = 1), target_names=labels))"
      ],
      "execution_count": null,
      "outputs": [
        {
          "output_type": "stream",
          "name": "stdout",
          "text": [
            "                    precision    recall  f1-score   support\n",
            "\n",
            "           WALKING       0.92      0.99      0.96       462\n",
            "  WALKING_UPSTAIRS       0.95      0.96      0.95       467\n",
            "WALKING_DOWNSTAIRS       1.00      0.91      0.95       458\n",
            "\n",
            "          accuracy                           0.95      1387\n",
            "         macro avg       0.96      0.95      0.95      1387\n",
            "      weighted avg       0.96      0.95      0.95      1387\n",
            "\n"
          ]
        }
      ]
    }
  ]
}